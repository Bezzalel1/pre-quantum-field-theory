{
  "cells": [
    {
      "cell_type": "markdown",
      "metadata": {},
      "source": [
        "# PQF: Gravitational Wave Phase Deviation — Toy Model\n",
        "\n",
        "This notebook illustrates the **concept** behind PQF’s prediction that gravitational waves (GWs) acquire a small **phase drift** relative to General Relativity (GR).\n",
        "\n",
        "### What this notebook does\n",
        "- Models GR phase as $\\phi_{\\rm GR}(t)=2\\pi f t$.\n",
        "- Models a PQF-induced **fractional frequency shift** $\\epsilon$ so that $\\phi_{\\rm PQF}(t)\\approx (1+\\epsilon)\\,\\phi_{\\rm GR}(t)$.\n",
        "- Shows how a tiny per-cycle fractional drift accumulates linearly with time, producing a measurable phase **difference** $\\Delta\\phi(t)=\\phi_{\\rm PQF}-\\phi_{\\rm GR}\\approx \\epsilon\\,\\phi_{\\rm GR}(t)$.\n",
        "\n",
        "### What this notebook does *not* do\n",
        "- It does **not** derive $\\epsilon$ from the PQF Lagrangian — here $\\epsilon$ is an **illustrative placeholder** (to be provided in a later derivation notebook).\n",
        "- It does **not** compute the reported “9.2$\\sigma$” claim. Significance depends on detector **SNR** and event statistics; we include an SNR-based example to show the scaling.\n",
        "\n",
        "> **Takeaway:** This is a transparent toy model to visualize cumulative phase drift. The full PQF derivation will specify $\\epsilon$ and the combined significance across events."
      ]
    },
    {
      "cell_type": "code",
      "execution_count": null,
      "metadata": {},
      "outputs": [],
      "source": [
        "import numpy as np\n",
        "import matplotlib.pyplot as plt\n",
        "\n",
        "# --- Parameters (feel free to adjust) ---\n",
        "f = 150.0      # Hz, representative GW frequency (late inspiral band)\n",
        "T = 2.0        # seconds of signal used\n",
        "eps = 1e-6     # fractional frequency shift (illustrative placeholder!)\n",
        "\n",
        "# NOTE: In full PQF, eps will be derived from field dynamics.\n",
        "#       Here it is set small to illustrate accumulation over time.\n",
        "\n",
        "# --- Time axis and phases ---\n",
        "t = np.linspace(0.0, T, 5000)\n",
        "phase_gr = 2.0 * np.pi * f * t              # GR baseline\n",
        "phase_pqf = (1.0 + eps) * phase_gr          # PQF: small fractional shift\n",
        "delta_phase = phase_pqf - phase_gr          # accumulated difference\n",
        "\n",
        "cycles = f * T\n",
        "print(f\"Frequency f = {f:.1f} Hz, duration T = {T:.2f} s (~{cycles:.0f} cycles)\")\n",
        "print(f\"Illustrative fractional shift eps = {eps:.2e}\")\n",
        "print(f\"Final Δphase over T: {delta_phase[-1]:.6f} rad\")"
      ]
    },
    {
      "cell_type": "code",
      "execution_count": null,
      "metadata": {},
      "outputs": [],
      "source": [
        "# --- Plots: GR vs PQF phase, and the difference ---\n",
        "plt.figure(figsize=(7,4))\n",
        "plt.plot(t, phase_gr, linestyle='--', label='GR phase')\n",
        "plt.plot(t, phase_pqf, alpha=0.9, label='PQF phase')\n",
        "plt.xlabel('Time (s)')\n",
        "plt.ylabel('Phase (rad)')\n",
        "plt.title('GR vs PQF: Phase evolution')\n",
        "plt.legend()\n",
        "plt.grid(alpha=0.3)\n",
        "plt.tight_layout()\n",
        "plt.show()\n",
        "\n",
        "plt.figure(figsize=(7,3))\n",
        "plt.plot(t, delta_phase)\n",
        "plt.xlabel('Time (s)')\n",
        "plt.ylabel('Δphase (rad)')\n",
        "plt.title('Accumulated phase difference Δφ = φ_PQF − φ_GR')\n",
        "plt.grid(alpha=0.3)\n",
        "plt.tight_layout()\n",
        "plt.show()"
      ]
    },
    {
      "cell_type": "markdown",
      "metadata": {},
      "source": [
        "## Significance estimate with detector SNR\n",
        "\n",
        "A quick rule of thumb in GW data analysis is that the **phase uncertainty** scales like $\\sigma_\\phi \\sim 1/\\mathrm{SNR}$. \n",
        "Given an accumulated phase offset $\\Delta\\phi$, a single-event significance can be estimated as\n",
        "$$ N_\\sigma \\;\\approx\\; \\frac{\\Delta\\phi}{\\sigma_\\phi} \\;=\\; \\Delta\\phi \\times \\mathrm{SNR}. $$\n",
        "\n",
        "This simple estimate ignores covariances and waveform systematics, but it shows the scaling clearly."
      ]
    },
    {
      "cell_type": "code",
      "execution_count": null,
      "metadata": {},
      "outputs": [],
      "source": [
        "# --- SNR-based sigma estimate (toy) ---\n",
        "snr = 20.0                         # try values like 10, 20, 50, 100\n",
        "sigma_phase = 1.0 / snr            # rough scaling\n",
        "delta_phi = float(delta_phase[-1])\n",
        "n_sigma = delta_phi / sigma_phase\n",
        "\n",
        "print(f\"SNR = {snr:.1f} → σ_phase ≈ {sigma_phase:.4f} rad\")\n",
        "print(f\"Δphase(T) = {delta_phi:.6f} rad → ~{n_sigma:.2f} σ (single event, toy estimate)\")\n",
        "\n",
        "# Explore how significance scales with duration (optional sweep)\n",
        "Ts = np.linspace(0.5, 8.0, 16)\n",
        "n_sigmas = []\n",
        "for T_try in Ts:\n",
        "    t_try = np.linspace(0.0, T_try, 4000)\n",
        "    phase_gr_try = 2.0 * np.pi * f * t_try\n",
        "    phase_pqf_try = (1.0 + eps) * phase_gr_try\n",
        "    delta_phi_try = (phase_pqf_try - phase_gr_try)[-1]\n",
        "    n_sigmas.append(delta_phi_try * snr)   # since σ_phi ~ 1/SNR\n",
        "\n",
        "plt.figure(figsize=(6,3.5))\n",
        "plt.plot(Ts, n_sigmas)\n",
        "plt.xlabel('Duration T (s)')\n",
        "plt.ylabel('Toy significance ~ Δφ × SNR (σ)')\n",
        "plt.title('Scaling of apparent significance with duration (toy)')\n",
        "plt.grid(alpha=0.3)\n",
        "plt.tight_layout()\n",
        "plt.show()"
      ]
    },
    {
      "cell_type": "markdown",
      "metadata": {},
      "source": [
        "### Notes & next steps\n",
        "- Here $\\epsilon$ is an **illustrative placeholder**. The full PQF derivation will provide $\\epsilon$ from first principles (structured-field corrections to propagation).\n",
        "- The often-quoted “9.2$\\sigma$” expectation refers to a **full analysis** (e.g., multiple events, realistic noise, detector response). It is **not** computed in this toy notebook.\n",
        "- A follow-up notebook will: (i) map PQF parameters to $\\epsilon$, and (ii) fold in realistic noise/SNR distributions to assess multi-event significance."
      ]
    }
  ],
  "metadata": {
    "kernelspec": { "display_name": "Python 3", "language": "python", "name": "python3" },
    "language_info": { "name": "python", "version": "3.10" }
  },
  "nbformat": 4,
  "nbformat_minor": 5
}
