Add cleaned LPQF gravitational-wave drift simulation (no outputs)
