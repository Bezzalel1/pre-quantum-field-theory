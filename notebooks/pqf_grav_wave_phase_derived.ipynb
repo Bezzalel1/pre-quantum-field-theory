{
 "nbformat": 4,
 "nbformat_minor": 5,
 "metadata": {
  "kernelspec": {
   "display_name": "Python 3",
   "language": "python",
   "name": "python3"
  },
  "language_info": {
   "name": "python",
   "version": "3.10",
   "mimetype": "text/x-python",
   "codemirror_mode": {
    "name": "ipython",
    "version": 3
   },
   "pygments_lexer": "ipython3",
   "nbconvert_exporter": "python",
   "file_extension": ".py"
  }
 },
 "cells": [
  {
   "cell_type": "markdown",
   "metadata": {},
   "source": [
    "# PQF: Gravitational-Wave–Like Drift (Derived, Reviewer-Ready)\n",
    "\n",
    "**Principle — no ad-hoc terms.**  \n",
    "This notebook simulates envelope drift of a localized $\\phi$ wave due to **inhomogeneous dispersion** derived from the LPQF Lagrangian:\n",
    "\\[\\mathcal{L}=\\tfrac12(\\partial_t \\phi)^2-\\tfrac{c_\\phi^2}{2}(\\partial_x\\phi)^2 - V(\\phi) \\; -\\; \\tfrac{\\alpha}{2}\\,\\phi^2(\\partial_x\\theta)^2\\]\n",
    "Coupled equations of motion (Euler–Lagrange):\n",
    "\\[\\phi_{tt}-c_\\phi^2\\phi_{xx}+V'(\\phi)+\\alpha\\,\\phi\\,\\theta_x^2=0,\\qquad\n",
    "\\theta_{tt}-\\partial_x\\!\\big[(c_\\theta^2+\\alpha\\,\\phi^2)\\,\\theta_x\\big]=0.\\]\n",
    "Local dispersion for small perturbations on a slowly varying background:\n",
    "\\[\\omega^2(x)=c_\\phi^2 k^2 + V''(\\phi(x)) + \\alpha\\,\\theta_x^2(x).\\]\n",
    "Spatial variation of $V''(\\phi)$ and $\\theta_x$ **biases the group velocity** $v_g=\\partial\\omega/\\partial k$, producing net drift."
   ]
  },
  {
   "cell_type": "markdown",
   "metadata": {},
   "source": [
    "## 1) Imports & Parameters\n",
    "- Dimensionless units\n",
    "- Exponential potential $V(\\phi)=\\rho_0\\,e^{-\\phi/\\phi_s}$\n",
    "- Energy conservation guard (adaptive `dt` if drift exceeds tolerance)"
   ]
  },
  {
   "cell_type": "code",
   "metadata": {},
   "execution_count": null,
   "outputs": [],
   "source": [
    "import numpy as np, matplotlib.pyplot as plt\n",
    "\n",
    "# ---------- Parameters (dimensionless PQF) ----------\n",
    "c_phi = 1.0\n",
    "c_th  = 1.0\n",
    "rho0  = 1.0\n",
    "phi_s = 1.0\n",
    "alpha = 0.6\n",
    "\n",
    "# Potential & derivatives\n",
    "def V(phi):   return rho0*np.exp(-phi/phi_s)\n",
    "def Vp(phi):  return -(rho0/phi_s)*np.exp(-phi/phi_s)\n",
    "def Vpp(phi): return (rho0/(phi_s**2))*np.exp(-phi/phi_s)\n",
    "\n",
    "# Grid\n",
    "N  = 4096\n",
    "L  = 400.0\n",
    "dx = L/N\n",
    "x  = np.linspace(-L/2, L/2, N, endpoint=False)\n",
    "\n",
    "# Operators (periodic)\n",
    "def dxx(f): return (np.roll(f,-1)-2*f+np.roll(f,1))/dx**2\n",
    "def dx1(f): return (np.roll(f,-1)-np.roll(f,1))/(2*dx)\n",
    "\n",
    "# Time step (CFL)\n",
    "CFL = 0.4\n",
    "dt  = CFL * dx / max(c_phi, c_th)\n",
    "\n",
    "# Simulation length\n",
    "steps      = 12000\n",
    "out_every  = 200\n",
    "\n",
    "# Energy guard\n",
    "ENERGY_TOL = 1e-4     # relative drift tolerance (0.01%)\n",
    "ADAPT_RATE = 0.8      # dt multiplier if violation\n",
    "MAX_ADAPT  = 5        # stop after this many adaptations"
   ]
  },
  {
   "cell_type": "markdown",
   "metadata": {},
   "source": [
    "## 2) Initial Conditions\n",
    "- Localized carrier+envelope in $\\phi$\n",
    "- Gentle phase slope in $\\theta$ → $\\,\\theta_x \\neq 0$"
   ]
  },
  {
   "cell_type": "code",
   "metadata": {},
   "execution_count": null,
   "outputs": [],
   "source": [
    "# Initial fields\n",
    "phi0   = 0.5\n",
    "k0     = 0.25\n",
    "env    = np.exp(-(x+40.0)**2/200.0)\n",
    "phi    = phi0 + 0.08*env*np.cos(k0*x)\n",
    "phi_t  = np.zeros_like(phi)\n",
    "\n",
    "theta   = 0.02*np.tanh(x/30.0)  # background phase slope\n",
    "theta_t = np.zeros_like(theta)\n",
    "\n",
    "# Accelerations (EoMs)\n",
    "def acc_phi(phi, theta):\n",
    "    thx = dx1(theta)\n",
    "    return c_phi**2 * dxx(phi) - Vp(phi) - alpha*phi*(thx**2)\n",
    "\n",
    "def acc_th(phi, theta):\n",
    "    thx  = dx1(theta)\n",
    "    term = (c_th**2 + alpha*phi**2)*thx\n",
    "    return (np.roll(term,-1) - np.roll(term,1))/(2*dx)\n",
    "\n",
    "# Leapfrog bootstrap (half step)\n",
    "phi_t   += 0.5*dt*acc_phi(phi, theta)\n",
    "theta_t += 0.5*dt*acc_th(phi, theta)"
   ]
  },
  {
   "cell_type": "markdown",
   "metadata": {},
   "source": [
    "## 3) Energy, Diagnostics & Drift Measure\n",
    "We monitor the Hamiltonian density\n",
    "$$\\mathcal{H}=\\tfrac12\\phi_t^2+\\tfrac{c_\\phi^2}{2}\\phi_x^2+\\tfrac12\\theta_t^2+\\tfrac{c_\\theta^2}{2}\\theta_x^2+V(\\phi)+\\tfrac{\\alpha}{2}\\phi^2\\theta_x^2,$$\n",
    "track relative drift $\\Delta H/H_0$, and compute a robust **envelope center** $x_c(t)$."
   ]
  },
  {
   "cell_type": "code",
   "metadata": {},
   "execution_count": null,
   "outputs": [],
   "source": [
    "def energy_density(phi, phi_t, theta, theta_t):\n",
    "    phx = dx1(phi)\n",
    "    thx = dx1(theta)\n",
    "    return (0.5*phi_t**2 + 0.5*(c_phi**2)*phx**2 +\n",
    "            0.5*theta_t**2 + 0.5*(c_th**2)*thx**2 +\n",
    "            V(phi) + 0.5*alpha*phi**2*thx**2)\n",
    "\n",
    "def envelope_center(f):\n",
    "    w = f - f.min()\n",
    "    s = w.sum()\n",
    "    if s <= 0: return 0.0\n",
    "    w /= s\n",
    "    return np.sum(w*x)\n",
    "\n",
    "H0 = energy_density(phi, phi_t, theta, theta_t).mean()\n",
    "centers, times, relH = [], [], []\n",
    "adapt_count = 0"
   ]
  },
  {
   "cell_type": "markdown",
   "metadata": {},
   "source": [
    "## 4) Main Integrator with Energy Guard\n",
    "If $|\\Delta H/H_0|$ > tolerance, we **adapt dt** (reduce by 20%) up to a cap, then stop to avoid misleading results."
   ]
  },
  {
   "cell_type": "code",
   "metadata": {},
   "execution_count": null,
   "outputs": [],
   "source": [
    "for n in range(steps):\n",
    "    # Advance momenta\n",
    "    phi_t   += dt * acc_phi(phi, theta)\n",
    "    theta_t += dt * acc_th(phi, theta)\n",
    "    # Advance fields\n",
    "    phi     += dt * phi_t\n",
    "    theta   += dt * theta_t\n",
    "\n",
    "    if n % out_every == 0:\n",
    "        H = energy_density(phi, phi_t, theta, theta_t).mean()\n",
    "        rel = (H - H0)/abs(H0) if H0 != 0 else 0.0\n",
    "        relH.append(rel); times.append(n*dt); centers.append(envelope_center(phi))\n",
    "        print(f\"step {n:6d} | ΔH/H0={rel: .3e} | center≈{centers[-1]:.2f} | dt={dt:.3e}\")\n",
    "        # Energy guard\n",
    "        if abs(rel) > ENERGY_TOL:\n",
    "            if adapt_count < MAX_ADAPT:\n",
    "                dt *= ADAPT_RATE\n",
    "                adapt_count += 1\n",
    "                print(f\"  ⚠ Energy drift exceeded {ENERGY_TOL:.1e}. Reducing dt → {dt:.3e} (#{adapt_count})\")\n",
    "            else:\n",
    "                print(\"  ❌ Energy drift persists after adaptations. Stopping to avoid artifacts.\")\n",
    "                break"
   ]
  },
  {
   "cell_type": "markdown",
   "metadata": {},
   "source": [
    "## 5) Results\n",
    "- **Drift**: plot envelope center $x_c(t)$\n",
    "- **Energy check**: relative drift over time\n",
    "- **Final profile**: inspect $\\phi(x)$ at the end"
   ]
  },
  {
   "cell_type": "code",
   "metadata": {},
   "execution_count": null,
   "outputs": [],
   "source": [
    "fig, ax = plt.subplots(1,2, figsize=(10,3.5))\n",
    "\n",
    "ax[0].plot(times, centers, '-')\n",
    "ax[0].set_xlabel('time'); ax[0].set_ylabel('envelope center  $x_c(t)$')\n",
    "ax[0].set_title('Derived GW-like envelope drift')\n",
    "ax[0].grid(alpha=0.3)\n",
    "\n",
    "ax[1].plot(times, relH, '-')\n",
    "ax[1].axhline(0, color='k', lw=1)\n",
    "ax[1].set_xlabel('time'); ax[1].set_ylabel('relative energy drift  ΔH/H₀')\n",
    "ax[1].set_title('Energy conservation check')\n",
    "ax[1].grid(alpha=0.3)\n",
    "\n",
    "plt.tight_layout(); plt.show()\n",
    "\n",
    "plt.figure(figsize=(7,3))\n",
    "plt.plot(x, phi)\n",
    "plt.xlabel('x'); plt.ylabel('φ(x)  (final)')\n",
    "plt.title('Final φ profile')\n",
    "plt.grid(alpha=0.3); plt.tight_layout(); plt.show()"
   ]
  },
  {
   "cell_type": "markdown",
   "metadata": {},
   "source": [
    "## 6) Notes for Reviewers\n",
    "- **No ad-hoc terms**: every term in the EoMs comes from the LPQF Lagrangian.\n",
    "- **Mechanism**: drift arises from spatial variation in $V''(\\phi)$ and $\\theta_x$, biasing $v_g$.\n",
    "- **Quality control**: energy guard with adaptive `dt`; stop on persistent drift.\n",
    "- **Reproducibility**: 1D periodic box; change `N, L, dt` to probe convergence.\n",
    "- **Next**: add 2D ray-bending (graded-index) emergent lensing as a separate notebook."
   ]
  }
 ]
}
