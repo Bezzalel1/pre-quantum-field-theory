{
  "cells": [
    {
      "cell_type": "markdown",
      "metadata": {},
      "source": [
        "# PQF: Gravitational Wave Phase Deviation — Toy Model",
        "",
        "This notebook illustrates the **concept** behind PQF’s prediction that gravitational waves (GWs) acquire a small **phase drift** relative to General Relativity (GR).",
        "",
        "### What this notebook does",
        "- Models GR phase as $\\phi_{\\rm GR}(t)=2\\pi f t$.",
        "- Models a PQF-induced **fractional frequency shift** $\\epsilon$ so that $\\phi_{\\rm PQF}(t)\\approx (1+\\epsilon)\\,\\phi_{\\rm GR}(t)$.",
        "- Shows how a tiny per-cycle fractional drift accumulates linearly with time, producing a measurable phase **difference** $\\Delta\\phi(t)=\\phi_{\\rm PQF}-\\phi_{\\rm GR}\\approx \\epsilon\\,\\phi_{\\rm GR}(t)$.",
        "",
        "### What this notebook does *not* do",
        "- It does **not** derive $\\epsilon$ from the PQF Lagrangian — here $\\epsilon$ is an **illustrative placeholder** (to be provided in a later derivation notebook).",
        "- It does **not** compute the reported “9.2$\\sigma$” claim. Significance depends on detector **SNR** and event statistics; we include an SNR-based example to show the scaling.",
        "",
        "> **Takeaway:** This is a transparent toy model to visualize cumulative phase drift. The full PQF derivation will specify $\\epsilon$ and the combined significance across events."
      ]
    },
    {
      "cell_type": "code",
      "execution_count": null,
      "metadata": {},
      "outputs": [],
      "source": [
        "import numpy as np",
        "import matplotlib.pyplot as plt",
        "",
        "# --- Parameters (feel free to adjust) ---",
        "f = 150.0      # Hz, representative GW frequency (late inspiral band)",
        "T = 2.0        # seconds of signal used",
        "eps = 1e-6     # fractional frequency shift (illustrative placeholder!)",
        "",
        "# NOTE: In full PQF, eps will be derived from field dynamics.",
        "#       Here it is set small to illustrate accumulation over time.",
        "",
        "# --- Time axis and phases ---",
        "t = np.linspace(0.0, T, 5000)",
        "phase_gr = 2.0 * np.pi * f * t              # GR baseline",
        "phase_pqf = (1.0 + eps) * phase_gr          # PQF: small fractional shift",
        "delta_phase = phase_pqf - phase_gr          # accumulated difference",
        "",
        "cycles = f * T",
        "print(f\"Frequency f = {f:.1f} Hz, duration T = {T:.2f} s (~{cycles:.0f} cycles)\")",
        "print(f\"Illustrative fractional shift eps = {eps:.2e}\")",
        "print(f\"Final Δphase over T: {delta_phase[-1]:.6f} rad\")"
      ]
    },
    {
      "cell_type": "code",
      "execution_count": null,
      "metadata": {},
      "outputs": [],
      "source": [
        "# --- Plots: GR vs PQF phase, and the difference ---",
        "plt.figure(figsize=(7,4))",
        "plt.plot(t, phase_gr, linestyle='--', label='GR phase')",
        "plt.plot(t, phase_pqf, alpha=0.9, label='PQF phase')",
        "plt.xlabel('Time (s)')",
        "plt.ylabel('Phase (rad)')",
        "plt.title('GR vs PQF: Phase evolution')",
        "plt.legend()",
        "plt.grid(alpha=0.3)",
        "plt.tight_layout()",
        "plt.show()",
        "",
        "plt.figure(figsize=(7,3))",
        "plt.plot(t, delta_phase)",
        "plt.xlabel('Time (s)')",
        "plt.ylabel('Δphase (rad)')",
        "plt.title('Accumulated phase difference Δφ = φ_PQF − φ_GR')",
        "plt.grid(alpha=0.3)",
        "plt.tight_layout()",
        "plt.show()"
      ]
    },
    {
      "cell_type": "markdown",
      "metadata": {},
      "source": [
        "## Significance estimate with detector SNR",
        "",
        "A quick rule of thumb in GW data analysis is that the **phase uncertainty** scales like $\\sigma_\\phi \\sim 1/\\mathrm{SNR}$. ",
        "Given an accumulated phase offset $\\Delta\\phi$, a single-event significance can be estimated as",
        "$$ N_\\sigma \\;\\approx\\; \\frac{\\Delta\\phi}{\\sigma_\\phi} \\;=\\; \\Delta\\phi \\times \\mathrm{SNR}. $$",
        "",
        "This simple estimate ignores covariances and waveform systematics, but it shows the scaling clearly."
      ]
    },
    {
      "cell_type": "code",
      "execution_count": null,
      "metadata": {},
      "outputs": [],
      "source": [
        "# --- SNR-based sigma estimate (toy) ---",
        "snr = 20.0                         # try values like 10, 20, 50, 100",
        "sigma_phase = 1.0 / snr            # rough scaling",
        "delta_phi = float(delta_phase[-1])",
        "n_sigma = delta_phi / sigma_phase",
        "",
        "print(f\"SNR = {snr:.1f} → σ_phase ≈ {sigma_phase:.4f} rad\")",
        "print(f\"Δphase(T) = {delta_phi:.6f} rad → ~{n_sigma:.2f} σ (single event, toy estimate)\")",
        "",
        "# Explore how significance scales with duration (optional sweep)",
        "Ts = np.linspace(0.5, 8.0, 16)",
        "n_sigmas = []",
        "for T_try in Ts:",
        "    t_try = np.linspace(0.0, T_try, 4000)",
        "    phase_gr_try = 2.0 * np.pi * f * t_try",
        "    phase_pqf_try = (1.0 + eps) * phase_gr_try",
        "    delta_phi_try = (phase_pqf_try - phase_gr_try)[-1]",
        "    n_sigmas.append(delta_phi_try * snr)   # since σ_phi ~ 1/SNR",
        "",
        "plt.figure(figsize=(6,3.5))",
        "plt.plot(Ts, n_sigmas)",
        "plt.xlabel('Duration T (s)')",
        "plt.ylabel('Toy significance ~ Δφ × SNR (σ)')",
        "plt.title('Scaling of apparent significance with duration (toy)')",
        "plt.grid(alpha=0.3)",
        "plt.tight_layout()",
        "plt.show()"
      ]
    },
    {
      "cell_type": "markdown",
      "metadata": {},
      "source": [
        "### Notes & next steps",
        "- Here $\\epsilon$ is an **illustrative placeholder**. The full PQF derivation will provide $\\epsilon$ from first principles (structured-field corrections to propagation).",
        "- The often-quoted “9.2$\\sigma$” expectation refers to a **full analysis** (e.g., multiple events, realistic noise, detector response). It is **not** computed in this toy notebook.",
        "- A follow-up notebook will: (i) map PQF parameters to $\\epsilon$, and (ii) fold in realistic noise/SNR distributions to assess multi-event significance."
      ]
    }
  ],
  "metadata": {
    "kernelspec": { "display_name": "Python 3", "language": "python", "name": "python3" },
    "language_info": { "name": "python", "version": "3.10" }
  },
  "nbformat": 4,
  "nbformat_minor": 5
}