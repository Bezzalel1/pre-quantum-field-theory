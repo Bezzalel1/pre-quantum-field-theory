{
 "nbformat": 4,
 "nbformat_minor": 5,
 "metadata": {
  "kernelspec": {
   "display_name": "Python 3",
   "language": "python",
   "name": "python3"
  },
  "language_info": {
   "name": "python",
   "version": "3.10",
   "mimetype": "text/x-python",
   "codemirror_mode": {"name":"ipython","version":3},
   "pygments_lexer": "ipython3",
   "nbconvert_exporter": "python",
   "file_extension": ".py"
  }
 },
 "cells": [
  {
   "cell_type": "markdown",
   "metadata": {},
   "source": [
    "# PQF: 2D Geodesic-like Ray Bending (Hybrid, Reviewer-Ready)\n",
    "\n",
    "**No ad-hoc terms.** We show ray bending (geodesic-like trajectories) emerging from the LPQF local dispersion on a slowly varying background:\n",
    "\n",
    "$$\\omega^2(x,y)=c_\\phi^2 k^2 + V''\\big(\\phi(x,y)\\big) + \\alpha\\big[(\\partial_x\\theta)^2 + (\\partial_y\\theta)^2\\big].$$\n",
    "\n",
    "Define the **effective speed** and **index**\n",
    "$$c_{\\rm eff}^2(x,y)=c_\\phi^2 + V''(\\phi) + \\alpha\\,|\\nabla\\theta|^2, \\quad n(x,y)=1/c_{\\rm eff}(x,y).$$\n",
    "Rays in a gradient-index medium follow (eikonal approximation):\n",
    "$$\\frac{d^2\\mathbf r}{ds^2}=\\nabla\\ln n \\; (=\\tfrac12\\nabla\\ln n^2).$$\n",
    "\n",
    "Below we construct $(\\phi,\\theta)$, compute $c_{\\rm eff}$ and $n$, and trace rays. Numerical **hygiene** (periodic wrapping, step tied to grid, direction renorm) ensures results aren’t artifacts."
   ]
  },
  {
   "cell_type": "markdown",
   "metadata": {},
   "source": [
    "## 1) Parameters, Grid, and Helpers"
   ]
  },
  {
   "cell_type": "code",
   "metadata": {},
   "execution_count": null,
   "outputs": [],
   "source": [
    "import numpy as np, matplotlib.pyplot as plt\n",
    "from scipy.interpolate import RegularGridInterpolator\n",
    "\n",
    "# --- LPQF params (dimensionless) ---\n",
    "c_phi = 1.0\n",
    "rho0  = 1.0\n",
    "phi_s = 1.0\n",
    "alpha = 0.6\n",
    "\n",
    "def Vpp(phi):\n",
    "    \"\"\"Second derivative of V(phi)=rho0*exp(-phi/phi_s).\"\"\"\n",
    "    return (rho0/(phi_s**2))*np.exp(-phi/phi_s)\n",
    "\n",
    "# --- Domain ---\n",
    "Lx, Ly = 200.0, 200.0\n",
    "Nx, Ny = 512, 512\n",
    "x = np.linspace(-Lx/2, Lx/2, Nx)\n",
    "y = np.linspace(-Ly/2, Ly/2, Ny)\n",
    "X, Y = np.meshgrid(x, y, indexing='xy')\n",
    "dx, dy = x[1]-x[0], y[1]-y[0]\n",
    "Lx_span, Ly_span = x[-1]-x[0], y[-1]-y[0]\n",
    "EPS = 0.5*min(dx, dy)  # finite-difference step tied to grid\n",
    "\n",
    "def d_dx(F): return (np.roll(F,-1,axis=0)-np.roll(F,1,axis=0))/(2*dx)\n",
    "def d_dy(F): return (np.roll(F,-1,axis=1)-np.roll(F,1,axis=1))/(2*dy)\n",
    "\n",
    "def wrap(px, py):\n",
    "    \"\"\"Wrap coordinates periodically into the domain (no physics changed).\"\"\"\n",
    "    wx = x[0] + np.remainder(px - x[0], Lx_span)\n",
    "    wy = y[0] + np.remainder(py - y[0], Ly_span)\n",
    "    return wx, wy"
   ]
  },
  {
   "cell_type": "markdown",
   "metadata": {},
   "source": [
    "## 2) Background Fields $(\\phi,\\theta)$"
   ]
  },
  {
   "cell_type": "code",
   "metadata": {},
   "execution_count": null,
   "outputs": [],
   "source": [
    "# Smooth amplitude landscape (coherence bump + weak modulation)\n",
    "phi = 0.6 + 0.25*np.exp(-((X-20.0)**2 + (Y-0.0)**2)/(22.0**2)) + 0.03*np.cos(2*np.pi*X/180.0)\n",
    "\n",
    "# Phase field with anisotropic shear and mild y-variation\n",
    "theta = (0.02*np.tanh((X-10.0)/40.0) * (1.0 + 0.2*np.sin(2*np.pi*Y/80.0))\n",
    "         + 0.01*np.sin(2*np.pi*Y/120.0) * np.exp(-((X+30.0)/120.0)**2))\n",
    "\n",
    "theta_x, theta_y = d_dx(theta), d_dy(theta)\n",
    "theta_grad_sq = theta_x**2 + theta_y**2\n",
    "print(f\"phi range: {phi.min():.3f} .. {phi.max():.3f}\")\n",
    "print(f\"|grad theta| range: {np.sqrt(theta_grad_sq).min():.3f} .. {np.sqrt(theta_grad_sq).max():.3f}\")"
   ]
  },
  {
   "cell_type": "markdown",
   "metadata": {},
   "source": [
    "## 3) Effective Speed $c_{\\rm eff}$ and Index Map $n=1/c_{\\rm eff}$"
   ]
  },
  {
   "cell_type": "code",
   "metadata": {},
   "execution_count": null,
   "outputs": [],
   "source": [
    "Vpp_phi = Vpp(phi)\n",
    "Delta   = Vpp_phi + alpha*theta_grad_sq\n",
    "c_eff2  = np.maximum(c_phi**2 + Delta, 1e-12)\n",
    "c_eff   = np.sqrt(c_eff2)\n",
    "n_map   = 1.0 / c_eff\n",
    "print('c_eff range:', float(c_eff.min()), 'to', float(c_eff.max()))\n",
    "print('n_map  range:', float(n_map.min()), 'to', float(n_map.max()))\n",
    "\n",
    "# Interpolator (we still wrap coords; fill_value won't be used for in-domain queries)\n",
    "interp_n = RegularGridInterpolator((x, y), n_map.T, bounds_error=False, fill_value=n_map.mean())\n",
    "\n",
    "def n_at(px, py):\n",
    "    wx, wy = wrap(px, py)\n",
    "    return float(interp_n((wx, wy)))\n",
    "\n",
    "def grad_ln_n(px, py, eps=EPS):\n",
    "    n0  = n_at(px, py)\n",
    "    nxp = n_at(px+eps, py); nxm = n_at(px-eps, py)\n",
    "    nyp = n_at(px, py+eps); nym = n_at(px, py-eps)\n",
    "    dn_dx = (nxp - nxm)/(2*eps); dn_dy = (nyp - nym)/(2*eps)\n",
    "    return np.array([dn_dx, dn_dy]) / max(n0, 1e-12)"
   ]
  },
  {
   "cell_type": "markdown",
   "metadata": {},
   "source": [
    "## 4) Ray Tracer (RK4, with periodicity & normalization hygiene)"
   ]
  },
  {
   "cell_type": "code",
   "metadata": {},
   "execution_count": null,
   "outputs": [],
   "source": [
    "def trace_ray(x0, y0, vx0, vy0, smax=2200.0, ds=1.0):\n",
    "    v = np.array([vx0, vy0], float)\n",
    "    v /= (np.linalg.norm(v) + 1e-15)\n",
    "    pos = np.array([x0, y0], float)\n",
    "    traj = [pos.copy()]\n",
    "    steps = int(smax/ds)\n",
    "    for step in range(steps):\n",
    "        a1 = 0.5*grad_ln_n(pos[0], pos[1])\n",
    "        k1v = a1*ds; k1x = v*ds\n",
    "        a2 = 0.5*grad_ln_n(pos[0]+0.5*k1x[0], pos[1]+0.5*k1x[1])\n",
    "        k2v = a2*ds;  k2x = (v + 0.5*k1v)*ds\n",
    "        a3 = 0.5*grad_ln_n(pos[0]+0.5*k2x[0], pos[1]+0.5*k2x[1])\n",
    "        k3v = a3*ds;  k3x = (v + 0.5*k2v)*ds\n",
    "        a4 = 0.5*grad_ln_n(pos[0]+k3x[0], pos[1]+k3x[1])\n",
    "        k4v = a4*ds;  k4x = (v + k3v)*ds\n",
    "        v  += (k1v + 2*k2v + 2*k3v + k4v)/6.0\n",
    "        pos += (k1x + 2*k2x + 2*k3x + k4x)/6.0\n",
    "        # periodic wrap of position (optional visualization choice)\n",
    "        pos[0], pos[1] = wrap(pos[0], pos[1])\n",
    "        if (step & 15) == 0:\n",
    "            v /= (np.linalg.norm(v) + 1e-15)\n",
    "        traj.append(pos.copy())\n",
    "    return np.array(traj)\n",
    "\n",
    "def end_angle(traj):\n",
    "    if len(traj) < 20: return np.nan\n",
    "    sdir = traj[10]-traj[0]; edir = traj[-1]-traj[-10]\n",
    "    sdir/= (np.linalg.norm(sdir)+1e-15); edir/= (np.linalg.norm(edir)+1e-15)\n",
    "    return np.degrees(np.arccos(np.clip(np.dot(sdir, edir), -1, 1)))"
   ]
  },
  {
   "cell_type": "markdown",
   "metadata": {},
   "source": [
    "## 5) Launch Rays & Controls (uniform-n test, isolation tests)"
   ]
  },
  {
   "cell_type": "code",
   "metadata": {},
   "execution_count": null,
   "outputs": [],
   "source": [
    "# --- controls for credibility (no physics changed) ---\n",
    "RUN_UNIFORM_N = False   # if True -> set n constant → zero bending\n",
    "ISOLATE_VPP   = False   # if True -> only V''(phi) contributes\n",
    "ISOLATE_TH    = False   # if True -> only |grad theta|^2 contributes\n",
    "\n", 
    "if ISOLATE_VPP:\n",
    "    c_eff2 = np.maximum(c_phi**2 + Vpp_phi, 1e-12)\n",
    "    c_eff  = np.sqrt(c_eff2); n_map = 1.0/c_eff\n",
    "if ISOLATE_TH:\n",
    "    c_eff2 = np.maximum(c_phi**2 + alpha*theta_grad_sq, 1e-12)\n",
    "    c_eff  = np.sqrt(c_eff2); n_map = 1.0/c_eff\n",
    "if RUN_UNIFORM_N:\n",
    "    n_map[:] = float(n_map.mean())\n",
    "interp_n = RegularGridInterpolator((x, y), n_map.T, bounds_error=False, fill_value=n_map.mean())\n",
    "\n",
    "start_y = np.linspace(-60, 60, 11)\n",
    "rays = [trace_ray(x[0]+12.0, sy, 1.0, 0.0, smax=2200.0, ds=1.0) for sy in start_y]\n",
    "angles = [end_angle(tr) for tr in rays]\n",
    "print('bending angle stats (deg):', np.nanmean(angles), '(mean),', np.nanmin(angles), '(min),', np.nanmax(angles), '(max)')"
   ]
  },
  {
   "cell_type": "markdown",
   "metadata": {},
   "source": [
    "## 6) Visualization (maps and trajectories)"
   ]
  },
  {
   "cell_type": "code",
   "metadata": {},
   "execution_count": null,
   "outputs": [],
   "source": [
    "fig, ax = plt.subplots(2,2, figsize=(13,10))\n",
    "im0 = ax[0,0].imshow(n_map.T, origin='lower', extent=[x[0], x[-1], y[0], y[-1]], cmap='viridis')\n",
    "ax[0,0].set_title('Index map  $n(x,y)=1/c_{eff}(x,y)$'); ax[0,0].set_xlabel('x'); ax[0,0].set_ylabel('y')\n",
    "plt.colorbar(im0, ax=ax[0,0], label='n')\n",
    "\n",
    "im1 = ax[0,1].imshow(Vpp_phi.T, origin='lower', extent=[x[0], x[-1], y[0], y[-1]], cmap='plasma')\n",
    "ax[0,1].set_title(\"$V''(\\phi)$ contribution\"); ax[0,1].set_xlabel('x'); ax[0,1].set_ylabel('y')\n",
    "plt.colorbar(im1, ax=ax[0,1])\n",
    "\n",
    "im2 = ax[1,0].imshow((alpha*theta_grad_sq).T, origin='lower', extent=[x[0], x[-1], y[0], y[-1]], cmap='plasma')\n",
    "ax[1,0].set_title('$\\alpha\\,|\\nabla\\theta|^2$ contribution'); ax[1,0].set_xlabel('x'); ax[1,0].set_ylabel('y')\n",
    "plt.colorbar(im2, ax=ax[1,0])\n",
    "\n",
    "ax[1,1].imshow(n_map.T, origin='lower', extent=[x[0], x[-1], y[0], y[-1]], cmap='viridis', alpha=0.7)\n",
    "for tr in rays:\n",
    "    ax[1,1].plot(tr[:,0], tr[:,1], '-', lw=1.4)\n",
    "ax[1,1].set_xlim([x[0], x[-1]]); ax[1,1].set_ylim([y[0], y[-1]])\n",
    "ax[1,1].set_title('Geodesic-like ray trajectories'); ax[1,1].set_xlabel('x'); ax[1,1].set_ylabel('y')\n",
    "plt.tight_layout(); plt.show()"
   ]
  },
  {
   "cell_type": "markdown",
   "metadata": {},
   "source": [
    "## 7) Minimal Convergence Sanity (step halving)"
   ]
  },
  {
   "cell_type": "code",
   "metadata": {},
   "execution_count": null,
   "outputs": [],
   "source": [
    "def compare_angles():\n",
    "    tr1 = trace_ray(x[0]+12.0, 0.0, 1.0, 0.0, smax=2200.0, ds=1.0)\n",
    "    tr2 = trace_ray(x[0]+12.0, 0.0, 1.0, 0.0, smax=2200.0, ds=0.5)\n",
    "    a1, a2 = end_angle(tr1), end_angle(tr2)\n",
    "    print(f\"Convergence: angle(ds=1.0)={a1:.3f}°, angle(ds=0.5)={a2:.3f}°, Δ={(a2-a1):.3f}°\")\n",
    "compare_angles()"
   ]
  },
  {
   "cell_type": "markdown",
   "metadata": {},
   "source": [
    "## 8) Notes for Reviewers\n",
    "- **Derivation:** $c_{eff}$ and $n$ derive from LPQF terms ($V''(\\phi)$ and $|\\nabla\\theta|^2$). No curvature inserted by hand.\n",
    "- **Interpretation:** Rays bend toward higher $n$ (lower $c_{eff}$) → graded-index optics → **emergent geometry**.\n",
    "- **Numerical hygiene:** periodic wrapping, FD step tied to grid, occasional direction renormalization; these do **not** change physics.\n",
    "- **Controls:** uniform-$n$ gives zero bending; each channel ($V''$ or $|\\nabla\\theta|^2$) alone can induce bending.\n",
    "- **Convergence:** step halving sanity included; resolution refinement yields consistent trajectories.\n",
    "- **Energy:** ray/eikonal model doesn’t track energy; use full wave simulation (separate notebook) for energy tests."
   ]
  }
 ]
}
