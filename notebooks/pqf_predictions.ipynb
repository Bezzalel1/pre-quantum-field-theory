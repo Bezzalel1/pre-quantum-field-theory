{
  "cells": [
    {
      "cell_type": "markdown",
      "metadata": {},
      "source": [
        "# PQF: Collapse Peak Demo\n",
        "This quick demo plots the collapse efficiency vs. field amplitude and marks the predicted peak near **1.44 phi_s**.\n"
      ]
    },
    {
      "cell_type": "code",
      "execution_count": null,
      "metadata": {},
      "outputs": [],
      "source": [
        "import numpy as np\n",
        "import matplotlib.pyplot as plt\n",
        "\n",
        "# Parameters\n",
        "phi_s = 1.0\n",
        "phi = np.linspace(0.0, 3.0*phi_s, 400)\n",
        "\n",
        "# Collapse efficiency (up to a constant factor)\n",
        "efficiency = phi * (1.0 - np.exp(-phi/phi_s)) * np.exp(-phi/phi_s)\n",
        "\n",
        "# Find numeric peak\n",
        "imax = int(np.argmax(efficiency))\n",
        "phi_peak = phi[imax] / phi_s\n",
        "print(f\"Estimated peak \\u2248 {phi_peak:.3f} \\u00b7 phi_s\")\n",
        "\n",
        "# Plot\n",
        "plt.figure(figsize=(6,4))\n",
        "plt.plot(phi/phi_s, efficiency, label='Collapse Efficiency')\n",
        "plt.axvline(1.44, linestyle='--', label='Analytic peak \\u2248 1.44 phi_s')\n",
        "plt.scatter([phi_peak], [efficiency[imax]], s=30)\n",
        "plt.xlabel('phi / phi_s')\n",
        "plt.ylabel('Efficiency (arb.)')\n",
        "plt.title('Amplitude-Driven Collapse')\n",
        "plt.legend()\n",
        "plt.grid(True)\n",
        "plt.tight_layout()\n",
        "plt.show()\n"
      ]
    }
  ],
  "metadata": {
    "kernelspec": {
      "display_name": "Python 3",
      "language": "python",
      "name": "python3"
    },
    "language_info": {
      "name": "python",
      "version": "3.10"
    }
  },
  "nbformat": 4,
  "nbformat_minor": 5
}
