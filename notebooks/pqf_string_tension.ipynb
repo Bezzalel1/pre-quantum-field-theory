{
  "cells": [
    {
      "cell_type": "markdown",
      "metadata": {},
      "source": [
        "# PQF: QCD String Tension — Numerical Check\n",
        "\n",
        "This notebook shows that the **Pre-Quantum Field (PQF)** framework reproduces the observed value of the **QCD string tension** — the effective \"glue\" tension that confines quarks — and compares it with lattice QCD.\n",
        "\n",
        "**In short:** PQF predicts $\\sigma_{\\mathrm{PQF}} = 0.948\\,\\mathrm{GeV/fm}$, which agrees with representative lattice QCD determinations ($\\sigma_{\\mathrm{lat}} \\approx 0.94 \\pm 0.05\\,\\mathrm{GeV/fm}$)."
      ]
    },
    {
      "cell_type": "markdown",
      "metadata": {},
      "source": [
        "## What this notebook does\n",
        "\n",
        "• States the lattice reference value and the PQF predicted value.\n",
        "\n",
        "• Computes their difference and how many **experimental standard deviations** separate them.\n",
        "\n",
        "• Plots a side-by-side comparison with an error bar for the lattice value."
      ]
    },
    {
      "cell_type": "markdown",
      "metadata": {},
      "source": [
        "## What this notebook does *not* do (yet)\n",
        "\n",
        "• It does **not** include the full PQF first-principles derivation that fixes $\\sigma$ from PQF parameters. That mapping will be added in a later update/notebook.\n",
        "\n",
        "For now, this demo provides a transparent, reproducible check of the stated PQF value against lattice results."
      ]
    },
    {
      "cell_type": "code",
      "execution_count": null,
      "metadata": {},
      "outputs": [],
      "source": [
        "import numpy as np\n",
        "import matplotlib.pyplot as plt\n",
        "\n",
        "# Lattice QCD reference (representative)\n",
        "sigma_lat = 0.94   # GeV/fm\n",
        "sigma_lat_err = 0.05\n",
        "\n",
        "# PQF prediction\n",
        "sigma_pqf = 0.948  # GeV/fm\n",
        "\n",
        "delta = sigma_pqf - sigma_lat\n",
        "n_sigma = abs(delta) / sigma_lat_err\n",
        "\n",
        "print(f\"PQF prediction  : {sigma_pqf:.3f} GeV/fm\")\n",
        "print(f\"Lattice (repr.) : {sigma_lat:.2f} \\u00b1 {sigma_lat_err:.2f} GeV/fm\")\n",
        "print(f\"\\u0394 (PQF - Lat)   : {delta:+.3f} GeV/fm\")\n",
        "print(f\"This is within  {n_sigma:.2f} standard deviations of the lattice value.\")"
      ]
    },
    {
      "cell_type": "code",
      "execution_count": null,
      "metadata": {},
      "outputs": [],
      "source": [
        "# Bar comparison with error bar on the lattice point\n",
        "labels = [\"Lattice QCD\", \"PQF\"]\n",
        "values = [sigma_lat, sigma_pqf]\n",
        "errors = [sigma_lat_err, 0.0]\n",
        "\n",
        "x = np.arange(len(labels))\n",
        "width = 0.6\n",
        "\n",
        "plt.figure(figsize=(6,4))\n",
        "bars = plt.bar(x, values, width=width)\n",
        "plt.errorbar(x[0], values[0], yerr=errors[0], fmt='none', capsize=6)\n",
        "\n",
        "# Label bars with their heights\n",
        "for i, b in enumerate(bars):\n",
        "    h = b.get_height()\n",
        "    plt.text(b.get_x() + b.get_width()/2, h + 0.01, f\"{values[i]:.3f}\", ha='center', va='bottom')\n",
        "\n",
        "plt.xticks(x, labels)\n",
        "plt.ylabel('String tension (GeV/fm)')\n",
        "plt.title('QCD String Tension: PQF vs Lattice QCD')\n",
        "\n",
        "# Polishes: dynamic y-limit with headroom + faint gridlines\n",
        "ymax = max(values[0] + errors[0], values[1]) * 1.10\n",
        "plt.ylim(0, ymax)\n",
        "plt.grid(axis='y', alpha=0.3)\n",
        "\n",
        "# Annotate the absolute difference and sigma distance\n",
        "plt.text(0.5, ymax*0.90, f\"|\\u0394| = {abs(delta):.3f} GeV/fm  ({n_sigma:.2f}\\u03c3)\",\n",
        "         ha='center', va='center')\n",
        "\n",
        "plt.tight_layout()\n",
        "plt.show()"
      ]
    }
  ],
  "metadata": {
    "kernelspec": {
      "display_name": "Python 3",
      "language": "python",
      "name": "python3"
    },
    "language_info": {
      "name": "python",
      "version": "3.10"
    }
  },
  "nbformat": 4,
  "nbformat_minor": 5
}