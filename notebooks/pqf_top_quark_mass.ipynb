{
 "cells": [
  {
   "cell_type": "markdown",
   "metadata": {},
   "source": [
    "# PQF: Top Quark Mass — Numerical Check\n",
    "\n",
    "**What this notebook does**\n",
    "\n",
    "• Uses the standard relation  \\( m_t = y_t\\,v/\\sqrt{2} \\) with \\( v \\approx 246.22\\,\\text{GeV} \\) to show how a Yukawa-like coupling near 1 produces the observed top mass.\n",
    "\n",
    "• Demonstrates sensitivity: tiny changes in \\( y_t \\) shift \\( m_t \\) by GeV-level amounts around the PDG value (**172.76 ± 0.30 GeV**).\n",
    "\n",
    "**What this notebook does *not* do (yet)**\n",
    "\n",
    "• It does **not** include the full PQF first-principles derivation that fixes \\( y_t \\) from PQF parameters. That mapping will be added in a later update/notebook.\n",
    "\n",
    "This keeps the demo honest and reproducible while we finalize the full analytic bridge.\n"
   ]
  },
  {
   "cell_type": "code",
   "execution_count": null,
   "metadata": {},
   "outputs": [],
   "source": [
    "import numpy as np\n",
    "import matplotlib.pyplot as plt\n",
    "\n",
    "# Constants\n",
    "v = 246.22  # Higgs vev in GeV\n",
    "sqrt2 = np.sqrt(2.0)\n",
    "\n",
    "def mt_from_yt(yt):\n",
    "    return yt * v / sqrt2\n",
    "\n",
    "# PDG reference (2023)\n",
    "mt_exp = 172.76\n",
    "mt_exp_err = 0.30\n",
    "\n",
    "# A PQF-motivated Yukawa near unity (placeholder until full derivation is published)\n",
    "yt_pqf = 0.993  # choose a value close to 1; full PQF mapping coming in a later notebook\n",
    "mt_pqf = mt_from_yt(yt_pqf)\n",
    "\n",
    "print(f\"Using y_t(PQF placeholder) = {yt_pqf:.4f}\")\n",
    "print(f\"Predicted m_t = y_t * v / sqrt(2) = {mt_pqf:.2f} GeV\")\n",
    "print(f\"PDG 2023: {mt_exp} ± {mt_exp_err} GeV  |  Δ = {abs(mt_pqf-mt_exp):.2f} GeV\")\n"
   ]
  },
  {
   "cell_type": "code",
   "execution_count": null,
   "metadata": {},
   "outputs": [],
   "source": [
    "# Sensitivity plot around y_t ~ 1\n",
    "yt_grid = np.linspace(0.985, 1.005, 200)\n",
    "mt_grid = mt_from_yt(yt_grid)\n",
    "\n",
    "plt.figure(figsize=(6,4))\n",
    "plt.plot(yt_grid, mt_grid, label=r'$m_t(y_t) = y_t v / \\sqrt{2}$')\n",
    "plt.axhline(mt_exp, linestyle='--', label=f'PDG {mt_exp} GeV')\n",
    "plt.axvline(yt_pqf, linestyle=':', label=f'y_t (PQF placeholder) = {yt_pqf}')\n",
    "plt.xlabel('y_t')\n",
    "plt.ylabel('m_t (GeV)')\n",
    "plt.title('Top mass near y_t ≈ 1')\n",
    "plt.legend()\n",
    "plt.grid(True)\n",
    "plt.tight_layout()\n",
    "plt.show()\n"
   ]
  },
  {
   "cell_type": "markdown",
   "metadata": {},
   "source": [
    "### Next update (coming soon)\n",
    "\n",
    "We will add the **PQF → y_t** mapping from the PQF Lagrangian (via the collapse/fractal structure) so \\( y_t \\) is *predicted* with no hand–tuning. This notebook will then switch from a placeholder to a full derivation demo.\n"
   ]
  }
 ],
 "metadata": {
  "kernelspec": {
   "display_name": "Python 3",
   "language": "python",
   "name": "python3"
  },
  "language_info": {
   "name": "python",
   "version": "3.10"
  }
 },
 "nbformat": 4,
 "nbformat_minor": 5
}