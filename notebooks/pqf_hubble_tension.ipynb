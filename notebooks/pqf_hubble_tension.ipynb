{
  "cells": [
    {
      "cell_type": "markdown",
      "metadata": {},
      "source": [
        "# PQF Hubble Tension — Toy Screening Model\n",
        "\n",
        "This notebook is a **phenomenological toy model** to visualize how a simple PQF-inspired screening weight\n",
        "$$ s(\\bar{\\phi},\\phi_s) = 1 - e^{-\\bar{\\phi}/\\phi_s} $$\n",
        "can interpolate between the **early-universe** CMB-inferred value of the Hubble constant and the **late-universe** local distance-ladder value:\n",
        "\n",
        "- Planck (CMB, within $\\Lambda$CDM): $H_0^{\\rm P} = 67.4 \\pm 0.5$ km/s/Mpc  \n",
        "- SH0ES (Cepheid-calibrated SNe Ia): $H_0^{\\rm S} = 73.04 \\pm 1.04$ km/s/Mpc\n",
        "\n",
        "We linearly blend using\n",
        "$$ H_0(s) = (1-s)\\,H_0^{\\rm P} + s\\,H_0^{\\rm S}. $$\n",
        "This is a **proof-of-concept visualization** only; full predictivity requires deriving $\\bar{\\phi}$ and $\\phi_s$ from the PQF Lagrangian.\n"
      ]
    },
    {
      "cell_type": "code",
      "execution_count": null,
      "metadata": {},
      "outputs": [],
      "source": [
        "# --- Toy model core ---\n",
        "import numpy as np\n",
        "import matplotlib.pyplot as plt\n",
        "\n",
        "# Anchors (can be updated):\n",
        "H0_P, sig_P = 67.4, 0.5     # Planck\n",
        "H0_S, sig_S = 73.04, 1.04   # SH0ES\n",
        "\n",
        "def s_from_phi(phi_bar=1.0, phi_s=1.0):\n",
        "    \"\"\"Screening weight s = 1 - exp(-phi_bar/phi_s).\"\"\"\n",
        "    return 1.0 - np.exp(-phi_bar/phi_s)\n",
        "\n",
        "def H0_from_s(s):\n",
        "    \"\"\"Interpolated H0.\"\"\"\n",
        "    return (1.0 - s)*H0_P + s*H0_S\n",
        "\n",
        "def sigma_H0_from_s(s):\n",
        "    \"\"\"Simple uncorrelated error propagation for linear blend.\"\"\"\n",
        "    return np.sqrt(((1.0 - s)*sig_P)**2 + (s*sig_S)**2)\n",
        "\n",
        "# Choose a demo point: phi_bar/phi_s = 1  ->  s = 1 - 1/e ≈ 0.632\n",
        "phi_bar, phi_s = 1.0, 1.0\n",
        "s = s_from_phi(phi_bar, phi_s)\n",
        "H0 = H0_from_s(s)\n",
        "sig = sigma_H0_from_s(s)\n",
        "\n",
        "print(f\"Planck:  H0_P = {H0_P:.2f} ± {sig_P:.2f} km/s/Mpc\")\n",
        "print(f\"SH0ES:   H0_S = {H0_S:.2f} ± {sig_S:.2f} km/s/Mpc\\n\")\n",
        "print(f\"phi_bar = {phi_bar:.3f}, phi_s = {phi_s:.3f}  ->  s = {s:.3f}\")\n",
        "print(f\"Interpolated H0(s) = {H0:.2f} ± {sig:.2f} km/s/Mpc\")\n",
        "\n",
        "# If you want the phi_bar that hits a target H0 (e.g., ~70.5):\n",
        "H0_target = 70.5\n",
        "s_target = (H0_target - H0_P)/(H0_S - H0_P)\n",
        "phi_bar_for_target = -phi_s * np.log(1.0 - s_target) if 0 < s_target < 1 else np.nan\n",
        "print(f\"\\nTarget H0 = {H0_target:.2f} -> s_target = {s_target:.3f} -> phi_bar ≈ {phi_bar_for_target:.3f} (for phi_s={phi_s})\")\n"
      ]
    },
    {
      "cell_type": "code",
      "execution_count": null,
      "metadata": {},
      "outputs": [],
      "source": [
        "# --- Visualization ---\n",
        "x = np.linspace(0.0, 3.0, 400)                 # scan phi_bar/phi_s from 0..3\n",
        "s_vals = 1.0 - np.exp(-x)                      # s as a function of phi_bar/phi_s\n",
        "H_vals = H0_from_s(s_vals)\n",
        "\n",
        "plt.figure(figsize=(6.2, 4.2))\n",
        "plt.plot(x, H_vals, label='H0(s(φ̄/φ_s))')\n",
        "plt.axhline(H0_P, linestyle='--', alpha=0.6, label='Planck 67.4')\n",
        "plt.axhline(H0_S, linestyle='--', alpha=0.6, label='SH0ES 73.04')\n",
        "plt.axhline(70.5, linestyle=':', alpha=0.8, label='Mid ~70.5')\n",
        "plt.axvline(1.0, linestyle=':', alpha=0.8, label='φ̄/φ_s = 1')\n",
        "plt.xlabel('φ̄ / φ_s')\n",
        "plt.ylabel('H0 (km/s/Mpc)')\n",
        "plt.title('PQF-inspired screening interpolation (toy)')\n",
        "plt.legend()\n",
        "plt.grid(alpha=0.3)\n",
        "plt.tight_layout()\n",
        "plt.show()\n"
      ]
    },
    {
      "cell_type": "markdown",
      "metadata": {},
      "source": [
        "## Notes & Next Steps\n",
        "- This is **not** a first-principles derivation; it is a **transparent, reproducible toy** showing how a screening weight can land near ~70–71.\n",
        "- A full PQF treatment should **derive** $\\bar{\\phi}$ and $\\phi_s$ from the Lagrangian and map them to observables.\n",
        "- Follow-up: (i) connect $\\epsilon$ / screening to structured-field corrections from PQF; (ii) include realistic data combinations and likelihoods.\n"
      ]
    }
  ],
  "metadata": {
    "kernelspec": {
      "display_name": "Python 3",
      "language": "python",
      "name": "python3"
    },
    "language_info": {
      "name": "python",
      "version": ""
    },
    "colab": {
      "name": "pqf_hubble_tension.ipynb",
      "provenance": []
    }
  },
  "nbformat": 4,
  "nbformat_minor": 5
}